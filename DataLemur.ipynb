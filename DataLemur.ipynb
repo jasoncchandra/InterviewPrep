{
 "cells": [
  {
   "cell_type": "raw",
   "id": "4d3257e4-269a-466f-b0b8-7187056114ac",
   "metadata": {},
   "source": [
    "- still have to read acing data science interview prep Qs\n",
    "- https://www.interviewquery.com/dashboard/my-plan is not bad too."
   ]
  },
  {
   "cell_type": "code",
   "execution_count": null,
   "id": "3aebe45c-9d0c-4abe-990b-7df49604b514",
   "metadata": {},
   "outputs": [],
   "source": []
  }
 ],
 "metadata": {
  "kernelspec": {
   "display_name": "Python 3 (ipykernel)",
   "language": "python",
   "name": "python3"
  },
  "language_info": {
   "codemirror_mode": {
    "name": "ipython",
    "version": 3
   },
   "file_extension": ".py",
   "mimetype": "text/x-python",
   "name": "python",
   "nbconvert_exporter": "python",
   "pygments_lexer": "ipython3",
   "version": "3.11.3"
  }
 },
 "nbformat": 4,
 "nbformat_minor": 5
}
