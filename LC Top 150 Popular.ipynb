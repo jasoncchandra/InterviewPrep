{
 "cells": [
  {
   "cell_type": "markdown",
   "id": "c9107861-f7bb-433b-bb46-0d4c240cb1db",
   "metadata": {},
   "source": [
    "# Leetcode 150 most asked questions"
   ]
  },
  {
   "cell_type": "markdown",
   "id": "89a06f1f-8f90-464e-b6e9-1853ef9b27db",
   "metadata": {},
   "source": [
    "## 1: Array/String: Merge Sort"
   ]
  },
  {
   "cell_type": "markdown",
   "id": "b759ea59-7f87-4995-b212-f058de296633",
   "metadata": {
    "tags": []
   },
   "source": [
    "You are given two integer arrays nums1 and nums2, sorted in non-decreasing order, and two integers m and n, representing the number of elements in nums1 and nums2 respectively.\n",
    "\n",
    "Merge nums1 and nums2 into a single array sorted in non-decreasing order."
   ]
  },
  {
   "cell_type": "markdown",
   "id": "4b206645-55cf-47a4-a73d-796c887ad785",
   "metadata": {},
   "source": [
    "Input: nums1 = [1,2,3,0,0,0], m = 3, nums2 = [2,5,6], n = 3\n",
    "Output: [1,2,2,3,5,6]\n",
    "Explanation: The arrays we are merging are [1,2,3] and [2,5,6].\n",
    "The result of the merge is [1,2,2,3,5,6] with the underlined elements coming from nums1."
   ]
  },
  {
   "cell_type": "raw",
   "id": "4c1dc687-4b78-4092-949d-437d8d283197",
   "metadata": {},
   "source": [
    "ANSWER: In this function, you start comparing elements from the end of both arrays (nums1 and nums2) and filling in the merged array from the end to the beginning. This approach ensures that you don't overwrite any elements in nums1 that haven't been merged yet. The time complexity of this algorithm is O(m + n), where m and n are the lengths of nums1 and nums2 respectively."
   ]
  },
  {
   "cell_type": "code",
   "execution_count": 2,
   "id": "0f1f1bdd-48e9-4ae0-89ab-ceceae121b42",
   "metadata": {
    "tags": []
   },
   "outputs": [],
   "source": [
    "class Solution(object):\n",
    "    def merge(self, nums1, m, nums2, n):\n",
    "        idx1 = m - 1  # Index of the last element in nums1\n",
    "        idx2 = n - 1  # Index of the last element in nums2\n",
    "        merged_idx = m + n - 1  # Index of the last position in the merged array\n",
    "\n",
    "        while idx1 >= 0 and idx2 >= 0:\n",
    "            if nums1[idx1] > nums2[idx2]:\n",
    "                nums1[merged_idx] = nums1[idx1]\n",
    "                idx1 -= 1\n",
    "            else:\n",
    "                nums1[merged_idx] = nums2[idx2]\n",
    "                idx2 -= 1\n",
    "            merged_idx -= 1\n",
    "\n",
    "        # If there are remaining elements in nums2, copy them to nums1\n",
    "        while idx2 >= 0:\n",
    "            nums1[merged_idx] = nums2[idx2]\n",
    "            idx2 -= 1\n",
    "            merged_idx -= 1\n"
   ]
  },
  {
   "cell_type": "markdown",
   "id": "9d3b1f86-4f7b-4d4c-a6bb-9f467fb55729",
   "metadata": {},
   "source": [
    "## 2. Array/String: Removing an Element"
   ]
  },
  {
   "cell_type": "raw",
   "id": "aac14370-5348-4729-935b-a21aa9ef030a",
   "metadata": {},
   "source": [
    "Given an integer array nums and an integer val, remove all occurrences of val in nums in-place. The order of the elements may be changed. Then return the number of elements in nums which are not equal to val.\n",
    "\n",
    "Consider the number of elements in nums which are not equal to val be k, to get accepted, you need to do the following things:\n",
    "\n",
    "Change the array nums such that the first k elements of nums contain the elements which are not equal to val. The remaining elements of nums are not important as well as the size of nums.\n",
    "Return k.\n"
   ]
  },
  {
   "cell_type": "code",
   "execution_count": null,
   "id": "659939ec-ab73-4c07-bdd6-992a43a4e73d",
   "metadata": {},
   "outputs": [],
   "source": [
    "class Solution(object):\n",
    "    def removeElement(self, nums, val):\n",
    "         k = 0  # Counter for elements not equal to val\n",
    "    \n",
    "    for i in range(len(nums)): #generates a sequence of numbers starting from 0                             up to (but not including) the length of the array.\n",
    "        if nums[i] != val:\n",
    "            nums[k] = nums[i]\n",
    "           # Essentially, you're \"shifting\" the elements that are not equal to  val towards the front of the array, maintaining the order of the elements that should remain.\n",
    "            k += 1\n",
    "    return k"
   ]
  }
 ],
 "metadata": {
  "kernelspec": {
   "display_name": "Python 3 (ipykernel)",
   "language": "python",
   "name": "python3"
  },
  "language_info": {
   "codemirror_mode": {
    "name": "ipython",
    "version": 3
   },
   "file_extension": ".py",
   "mimetype": "text/x-python",
   "name": "python",
   "nbconvert_exporter": "python",
   "pygments_lexer": "ipython3",
   "version": "3.11.3"
  }
 },
 "nbformat": 4,
 "nbformat_minor": 5
}
